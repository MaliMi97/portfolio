{
 "cells": [
  {
   "cell_type": "markdown",
   "metadata": {},
   "source": [
    "In this notebook, tables, views, procedures and functions of a PostgreSQL database are created. Some data for bitcoin and ethereum are filled in.\n",
    "\n",
    "IMPORTANT! THe script does not create the database, you have to do that yourself."
   ]
  },
  {
   "cell_type": "code",
   "execution_count": 1,
   "metadata": {},
   "outputs": [],
   "source": [
    "from postgre_sql.PostgreSQL import PostgreSQL"
   ]
  },
  {
   "cell_type": "code",
   "execution_count": 2,
   "metadata": {},
   "outputs": [],
   "source": [
    "sql = PostgreSQL(database='token_database', user='postgres', host='127.0.0.1', path_to_default='postgre_sql/sql_script')"
   ]
  },
  {
   "cell_type": "code",
   "execution_count": 3,
   "metadata": {},
   "outputs": [],
   "source": [
    "# Sets the database to default state\n",
    "sql.return_to_default()"
   ]
  },
  {
   "cell_type": "code",
   "execution_count": 4,
   "metadata": {},
   "outputs": [],
   "source": [
    "# Fills in the data for bitcoin\n",
    "d = {'crypto_token':{'abbreviation':'btc', 'token_name':'bitcoin', 'website':None, 'sector':None, 'maximum_supply':'21 000 000 000', 'launch_date':'2009-01-03'},\n",
    "'social_media':['https://www.reddit.com/r/Bitcoin/', 'https://twitter.com/BTC_Archive'],\n",
    "'investor':[{'investor_name':'Alameda Research', 'type_of_investor':'trading company'}, {'investor_name':'Jump Capital', 'type_of_investor':'venture firm'},\n",
    "            {'investor_name':'Paradigm', 'type_of_investor':'digital asset investment firm'}, {'investor_name':'Delphi Digital', 'type_of_investor':'research and consulting for digital assets'},\n",
    "            {'investor_name':'Three Arrows Capital', 'type_of_investor':'hedge fund'}],\n",
    "'teammate':[{'teammate_name':'Satoshi Nakamoto', 'background':None, 'teammate_position':'founder', 'start_on':'2009-01-03', 'end_on':'2009-01-03'}],\n",
    "'keyword':['payment', 'the first crypto']}\n",
    "\n",
    "sql.fill_database_with_token(d)"
   ]
  },
  {
   "cell_type": "code",
   "execution_count": 5,
   "metadata": {},
   "outputs": [
    {
     "name": "stdout",
     "output_type": "stream",
     "text": [
      "duplicate key value violates unique constraint \"investor_pkey\"\n",
      "DETAIL:  Key (investor_name)=(Alameda Research) already exists.\n",
      "\n",
      "duplicate key value violates unique constraint \"investor_pkey\"\n",
      "DETAIL:  Key (investor_name)=(Jump Capital) already exists.\n",
      "\n",
      "duplicate key value violates unique constraint \"investor_pkey\"\n",
      "DETAIL:  Key (investor_name)=(Paradigm) already exists.\n",
      "\n",
      "duplicate key value violates unique constraint \"investor_pkey\"\n",
      "DETAIL:  Key (investor_name)=(Delphi Digital) already exists.\n",
      "\n",
      "duplicate key value violates unique constraint \"investor_pkey\"\n",
      "DETAIL:  Key (investor_name)=(Three Arrows Capital) already exists.\n",
      "\n"
     ]
    }
   ],
   "source": [
    "# Fills in the data for ethereum\n",
    "# The duplicate key value violates unique constraint mean that the data is already in the database, for example some investor invests in both bitcoin and ethereum and\n",
    "# so it is in the database already. These errors do not matter.\n",
    "d = {'crypto_token':{'abbreviation':'eth', 'token_name':'ethereum', 'website':'https://ethereum.org/', 'sector':'Smart Contract', 'maximum_supply':'infinite', 'launch_date':'2015-07-30'},\n",
    "'social_media':['https://www.reddit.com/r/ethereum/', 'https://www.youtube.com/c/EthereumFoundation', 'https://twitter.com/ethdotorg', 'https://discord.com/invite/5W5tVb3', 'https://twitter.com/ethereum',\n",
    "                'https://discord.com/invite/EMgs6sN', 'https://discord.com/invite/Nz6rtfJ8Cu'],\n",
    "'investor':[{'investor_name':'Alameda Research', 'type_of_investor':'trading company'}, {'investor_name':'Jump Capital', 'type_of_investor':'venture firm'},\n",
    "            {'investor_name':'Paradigm', 'type_of_investor':'digital asset investment firm'}, {'investor_name':'Delphi Digital', 'type_of_investor':'esearch and consulting for digital assets'},\n",
    "            {'investor_name':'Three Arrows Capital', 'type_of_investor':'hedge fund'}, {'investor_name':'1Confirmation', 'type_of_investor':'venture fund for decentralized web'},\n",
    "            {'investor_name':'Blocktree Capital', 'type_of_investor':'venture fund for blockchain, digital and crypto assets'}],\n",
    "'teammate':[{'teammate_name':'Greg Colvin', 'background':'Psychology Ph.D', 'teammate_position':'designer and developer', 'start_on':'2016-03-01', 'end_on':'2016-09-01'},\n",
    "            {'teammate_name':'Vitalik Buterin', 'background':'Computer Science', 'teammate_position':'co-founder', 'start_on':'2013-11-01', 'end_on':None},\n",
    "            {'teammate_name':'Péter Szilágyi', 'background':'Computer Science master, Philosopy Ph.D', 'teammate_position':'developer', 'start_on':'2015-04-01', 'end_on':None},\n",
    "            {'teammate_name':'Gavin Wood', 'background':'Computer Science master, Philosopy Ph.D', 'teammate_position':'co-founder', 'start_on':'2013-12-01', 'end_on':'2015-12-01'}],\n",
    "'keyword':['De-Fi', 'Smart Contract', 'the second crypto']}\n",
    "\n",
    "sql.fill_database_with_token(d)"
   ]
  },
  {
   "cell_type": "code",
   "execution_count": null,
   "metadata": {},
   "outputs": [],
   "source": []
  }
 ],
 "metadata": {
  "interpreter": {
   "hash": "67b7daaa5770eaa3f80279b20b731c16e267a7bb311d7b0bc30c0138216b5693"
  },
  "kernelspec": {
   "display_name": "Python 3.9.7 ('base')",
   "language": "python",
   "name": "python3"
  },
  "language_info": {
   "codemirror_mode": {
    "name": "ipython",
    "version": 3
   },
   "file_extension": ".py",
   "mimetype": "text/x-python",
   "name": "python",
   "nbconvert_exporter": "python",
   "pygments_lexer": "ipython3",
   "version": "3.9.7"
  },
  "orig_nbformat": 4
 },
 "nbformat": 4,
 "nbformat_minor": 2
}
