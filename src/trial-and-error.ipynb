{
 "cells": [
  {
   "cell_type": "code",
   "execution_count": 1,
   "id": "5e5545fd",
   "metadata": {},
   "outputs": [],
   "source": [
    "import requests\n",
    "import datetime\n",
    "import time\n",
    "import sys\n",
    "import json\n",
    "import pandas as pd\n",
    "import matplotlib.pyplot as plt\n",
    "import numpy as np"
   ]
  },
  {
   "cell_type": "code",
   "execution_count": 2,
   "id": "3e5095bf",
   "metadata": {},
   "outputs": [],
   "source": [
    "from api.GlassnodeAPI import GlassnodeAPI\n",
    "from api.CoinGeckoAPI import CoinGeckoAPI"
   ]
  },
  {
   "cell_type": "code",
   "execution_count": 3,
   "id": "306b4145",
   "metadata": {},
   "outputs": [],
   "source": [
    "glassnode_api_key = open(\"/home/malimi/Skillset/glassnode_api_key.txt\",'r').read()[:-1]"
   ]
  },
  {
   "cell_type": "code",
   "execution_count": 4,
   "id": "71ff4385",
   "metadata": {},
   "outputs": [],
   "source": [
    "g = GlassnodeAPI(key=glassnode_api_key, time_out=10)"
   ]
  },
  {
   "cell_type": "code",
   "execution_count": 5,
   "id": "0aa5d207",
   "metadata": {},
   "outputs": [
    {
     "data": {
      "text/html": [
       "<div>\n",
       "<style scoped>\n",
       "    .dataframe tbody tr th:only-of-type {\n",
       "        vertical-align: middle;\n",
       "    }\n",
       "\n",
       "    .dataframe tbody tr th {\n",
       "        vertical-align: top;\n",
       "    }\n",
       "\n",
       "    .dataframe thead th {\n",
       "        text-align: right;\n",
       "    }\n",
       "</style>\n",
       "<table border=\"1\" class=\"dataframe\">\n",
       "  <thead>\n",
       "    <tr style=\"text-align: right;\">\n",
       "      <th></th>\n",
       "      <th>time</th>\n",
       "      <th>market cap</th>\n",
       "      <th>realized cap</th>\n",
       "    </tr>\n",
       "  </thead>\n",
       "  <tbody>\n",
       "    <tr>\n",
       "      <th>0</th>\n",
       "      <td>2010-07-17 02:00:00</td>\n",
       "      <td>1.702649e+05</td>\n",
       "      <td>1.702649e+05</td>\n",
       "    </tr>\n",
       "    <tr>\n",
       "      <th>1</th>\n",
       "      <td>2010-07-18 02:00:00</td>\n",
       "      <td>2.225672e+05</td>\n",
       "      <td>1.711265e+05</td>\n",
       "    </tr>\n",
       "    <tr>\n",
       "      <th>2</th>\n",
       "      <td>2010-07-19 02:00:00</td>\n",
       "      <td>3.138020e+05</td>\n",
       "      <td>1.729175e+05</td>\n",
       "    </tr>\n",
       "    <tr>\n",
       "      <th>3</th>\n",
       "      <td>2010-07-20 02:00:00</td>\n",
       "      <td>2.757412e+05</td>\n",
       "      <td>1.738318e+05</td>\n",
       "    </tr>\n",
       "    <tr>\n",
       "      <th>4</th>\n",
       "      <td>2010-07-21 02:00:00</td>\n",
       "      <td>2.444626e+05</td>\n",
       "      <td>1.746896e+05</td>\n",
       "    </tr>\n",
       "    <tr>\n",
       "      <th>...</th>\n",
       "      <td>...</td>\n",
       "      <td>...</td>\n",
       "      <td>...</td>\n",
       "    </tr>\n",
       "    <tr>\n",
       "      <th>3852</th>\n",
       "      <td>2021-02-01 01:00:00</td>\n",
       "      <td>6.270828e+11</td>\n",
       "      <td>2.223787e+11</td>\n",
       "    </tr>\n",
       "    <tr>\n",
       "      <th>3853</th>\n",
       "      <td>2021-02-02 01:00:00</td>\n",
       "      <td>6.457204e+11</td>\n",
       "      <td>2.234016e+11</td>\n",
       "    </tr>\n",
       "    <tr>\n",
       "      <th>3854</th>\n",
       "      <td>2021-02-03 01:00:00</td>\n",
       "      <td>6.796571e+11</td>\n",
       "      <td>2.244023e+11</td>\n",
       "    </tr>\n",
       "    <tr>\n",
       "      <th>3855</th>\n",
       "      <td>2021-02-04 01:00:00</td>\n",
       "      <td>6.972387e+11</td>\n",
       "      <td>2.259190e+11</td>\n",
       "    </tr>\n",
       "    <tr>\n",
       "      <th>3856</th>\n",
       "      <td>2021-02-05 01:00:00</td>\n",
       "      <td>6.990348e+11</td>\n",
       "      <td>2.278279e+11</td>\n",
       "    </tr>\n",
       "  </tbody>\n",
       "</table>\n",
       "<p>3857 rows × 3 columns</p>\n",
       "</div>"
      ],
      "text/plain": [
       "                    time    market cap  realized cap\n",
       "0    2010-07-17 02:00:00  1.702649e+05  1.702649e+05\n",
       "1    2010-07-18 02:00:00  2.225672e+05  1.711265e+05\n",
       "2    2010-07-19 02:00:00  3.138020e+05  1.729175e+05\n",
       "3    2010-07-20 02:00:00  2.757412e+05  1.738318e+05\n",
       "4    2010-07-21 02:00:00  2.444626e+05  1.746896e+05\n",
       "...                  ...           ...           ...\n",
       "3852 2021-02-01 01:00:00  6.270828e+11  2.223787e+11\n",
       "3853 2021-02-02 01:00:00  6.457204e+11  2.234016e+11\n",
       "3854 2021-02-03 01:00:00  6.796571e+11  2.244023e+11\n",
       "3855 2021-02-04 01:00:00  6.972387e+11  2.259190e+11\n",
       "3856 2021-02-05 01:00:00  6.990348e+11  2.278279e+11\n",
       "\n",
       "[3857 rows x 3 columns]"
      ]
     },
     "execution_count": 5,
     "metadata": {},
     "output_type": "execute_result"
    }
   ],
   "source": [
    "a = g.get_market_cap_realized_cap()\n",
    "a"
   ]
  },
  {
   "cell_type": "code",
   "execution_count": 6,
   "id": "047597c3",
   "metadata": {},
   "outputs": [
    {
     "data": {
      "text/plain": [
       "[<matplotlib.lines.Line2D at 0x7f35228ad6d0>]"
      ]
     },
     "execution_count": 6,
     "metadata": {},
     "output_type": "execute_result"
    },
    {
     "data": {
      "image/png": "[encoded data removed]",
      "text/plain": [
       "<Figure size 432x288 with 1 Axes>"
      ]
     },
     "metadata": {
      "needs_background": "light"
     },
     "output_type": "display_data"
    }
   ],
   "source": [
    "plt.plot(a['time'],a['market cap'])\n",
    "plt.plot(a['time'],a['realized cap'])"
   ]
  },
  {
   "cell_type": "code",
   "execution_count": null,
   "id": "bd0db724",
   "metadata": {},
   "outputs": [],
   "source": []
  },
  {
   "cell_type": "code",
   "execution_count": null,
   "id": "215be00d",
   "metadata": {},
   "outputs": [],
   "source": []
  },
  {
   "cell_type": "code",
   "execution_count": null,
   "id": "a28b4fd9",
   "metadata": {},
   "outputs": [],
   "source": []
  },
  {
   "cell_type": "code",
   "execution_count": 6,
   "id": "fc92f9d8",
   "metadata": {},
   "outputs": [
    {
     "data": {
      "text/plain": [
       "[<matplotlib.lines.Line2D at 0x7fbadf9c2cd0>]"
      ]
     },
     "execution_count": 6,
     "metadata": {},
     "output_type": "execute_result"
    },
    {
     "data": {
      "image/png": "[encoded data removed]",
      "text/plain": [
       "<Figure size 432x288 with 1 Axes>"
      ]
     },
     "metadata": {
      "needs_background": "light"
     },
     "output_type": "display_data"
    }
   ],
   "source": [
    "aux = g.get_realized_price()\n",
    "plt.plot(aux['time'],aux['realized price'])"
   ]
  },
  {
   "cell_type": "code",
   "execution_count": 25,
   "id": "8192aebe",
   "metadata": {},
   "outputs": [],
   "source": [
    "a = g.get_realized_price()\n",
    "b = g.get_closing_price()\n"
   ]
  },
  {
   "cell_type": "code",
   "execution_count": 26,
   "id": "73fe9b26",
   "metadata": {},
   "outputs": [
    {
     "data": {
      "text/html": [
       "<div>\n",
       "<style scoped>\n",
       "    .dataframe tbody tr th:only-of-type {\n",
       "        vertical-align: middle;\n",
       "    }\n",
       "\n",
       "    .dataframe tbody tr th {\n",
       "        vertical-align: top;\n",
       "    }\n",
       "\n",
       "    .dataframe thead th {\n",
       "        text-align: right;\n",
       "    }\n",
       "</style>\n",
       "<table border=\"1\" class=\"dataframe\">\n",
       "  <thead>\n",
       "    <tr style=\"text-align: right;\">\n",
       "      <th></th>\n",
       "      <th>time</th>\n",
       "      <th>realized price</th>\n",
       "      <th>price</th>\n",
       "    </tr>\n",
       "  </thead>\n",
       "  <tbody>\n",
       "    <tr>\n",
       "      <th>0</th>\n",
       "      <td>2010-07-17 02:00:00</td>\n",
       "      <td>0.049510</td>\n",
       "      <td>0.049510</td>\n",
       "    </tr>\n",
       "    <tr>\n",
       "      <th>1</th>\n",
       "      <td>2010-07-18 02:00:00</td>\n",
       "      <td>0.049636</td>\n",
       "      <td>0.085840</td>\n",
       "    </tr>\n",
       "    <tr>\n",
       "      <th>2</th>\n",
       "      <td>2010-07-19 02:00:00</td>\n",
       "      <td>0.050030</td>\n",
       "      <td>0.080800</td>\n",
       "    </tr>\n",
       "    <tr>\n",
       "      <th>3</th>\n",
       "      <td>2010-07-20 02:00:00</td>\n",
       "      <td>0.050163</td>\n",
       "      <td>0.074733</td>\n",
       "    </tr>\n",
       "    <tr>\n",
       "      <th>4</th>\n",
       "      <td>2010-07-21 02:00:00</td>\n",
       "      <td>0.050260</td>\n",
       "      <td>0.079210</td>\n",
       "    </tr>\n",
       "    <tr>\n",
       "      <th>...</th>\n",
       "      <td>...</td>\n",
       "      <td>...</td>\n",
       "      <td>...</td>\n",
       "    </tr>\n",
       "    <tr>\n",
       "      <th>3852</th>\n",
       "      <td>2021-02-01 01:00:00</td>\n",
       "      <td>11945.138601</td>\n",
       "      <td>33543.859744</td>\n",
       "    </tr>\n",
       "    <tr>\n",
       "      <th>3853</th>\n",
       "      <td>2021-02-02 01:00:00</td>\n",
       "      <td>11999.467109</td>\n",
       "      <td>35524.119952</td>\n",
       "    </tr>\n",
       "    <tr>\n",
       "      <th>3854</th>\n",
       "      <td>2021-02-03 01:00:00</td>\n",
       "      <td>12052.611823</td>\n",
       "      <td>37451.367473</td>\n",
       "    </tr>\n",
       "    <tr>\n",
       "      <th>3855</th>\n",
       "      <td>2021-02-04 01:00:00</td>\n",
       "      <td>12133.419869</td>\n",
       "      <td>36924.742006</td>\n",
       "    </tr>\n",
       "    <tr>\n",
       "      <th>3856</th>\n",
       "      <td>2021-02-05 01:00:00</td>\n",
       "      <td>12235.249011</td>\n",
       "      <td>38123.153540</td>\n",
       "    </tr>\n",
       "  </tbody>\n",
       "</table>\n",
       "<p>3857 rows × 3 columns</p>\n",
       "</div>"
      ],
      "text/plain": [
       "                    time  realized price         price\n",
       "0    2010-07-17 02:00:00        0.049510      0.049510\n",
       "1    2010-07-18 02:00:00        0.049636      0.085840\n",
       "2    2010-07-19 02:00:00        0.050030      0.080800\n",
       "3    2010-07-20 02:00:00        0.050163      0.074733\n",
       "4    2010-07-21 02:00:00        0.050260      0.079210\n",
       "...                  ...             ...           ...\n",
       "3852 2021-02-01 01:00:00    11945.138601  33543.859744\n",
       "3853 2021-02-02 01:00:00    11999.467109  35524.119952\n",
       "3854 2021-02-03 01:00:00    12052.611823  37451.367473\n",
       "3855 2021-02-04 01:00:00    12133.419869  36924.742006\n",
       "3856 2021-02-05 01:00:00    12235.249011  38123.153540\n",
       "\n",
       "[3857 rows x 3 columns]"
      ]
     },
     "execution_count": 26,
     "metadata": {},
     "output_type": "execute_result"
    }
   ],
   "source": [
    "a = a.merge(b, on='time')\n",
    "a"
   ]
  },
  {
   "cell_type": "code",
   "execution_count": null,
   "id": "53a5deb1",
   "metadata": {},
   "outputs": [],
   "source": []
  },
  {
   "cell_type": "code",
   "execution_count": 15,
   "id": "4ffff207",
   "metadata": {},
   "outputs": [],
   "source": [
    "res = requests.get('https://api.glassnode.com/v1/metrics/indicators/sopr',\n",
    "    params={'a': 'BTC', 'api_key': g.key})\n",
    "df = pd.read_json(res.text, convert_dates=['t'])"
   ]
  },
  {
   "cell_type": "code",
   "execution_count": 9,
   "id": "e6ff007c",
   "metadata": {},
   "outputs": [
    {
     "data": {
      "text/plain": [
       "t    2010-07-17 00:00:00\n",
       "v                    1.0\n",
       "Name: 0, dtype: object"
      ]
     },
     "execution_count": 9,
     "metadata": {},
     "output_type": "execute_result"
    }
   ],
   "source": [
    "df.iloc[0]"
   ]
  },
  {
   "cell_type": "code",
   "execution_count": 8,
   "id": "075e669d",
   "metadata": {},
   "outputs": [
    {
     "data": {
      "text/plain": [
       "datetime.datetime(2021, 2, 4, 1, 0)"
      ]
     },
     "execution_count": 8,
     "metadata": {},
     "output_type": "execute_result"
    }
   ],
   "source": [
    "datetime.datetime.fromtimestamp(1612396800)"
   ]
  },
  {
   "cell_type": "code",
   "execution_count": 12,
   "id": "4c1ceaf0",
   "metadata": {},
   "outputs": [
    {
     "data": {
      "text/html": [
       "<div>\n",
       "<style scoped>\n",
       "    .dataframe tbody tr th:only-of-type {\n",
       "        vertical-align: middle;\n",
       "    }\n",
       "\n",
       "    .dataframe tbody tr th {\n",
       "        vertical-align: top;\n",
       "    }\n",
       "\n",
       "    .dataframe thead th {\n",
       "        text-align: right;\n",
       "    }\n",
       "</style>\n",
       "<table border=\"1\" class=\"dataframe\">\n",
       "  <thead>\n",
       "    <tr style=\"text-align: right;\">\n",
       "      <th></th>\n",
       "      <th>t</th>\n",
       "      <th>v</th>\n",
       "    </tr>\n",
       "  </thead>\n",
       "  <tbody>\n",
       "    <tr>\n",
       "      <th>0</th>\n",
       "      <td>1279324800</td>\n",
       "      <td>1.000000</td>\n",
       "    </tr>\n",
       "    <tr>\n",
       "      <th>1</th>\n",
       "      <td>1279411200</td>\n",
       "      <td>1.174760</td>\n",
       "    </tr>\n",
       "    <tr>\n",
       "      <th>2</th>\n",
       "      <td>1279497600</td>\n",
       "      <td>1.318536</td>\n",
       "    </tr>\n",
       "    <tr>\n",
       "      <th>3</th>\n",
       "      <td>1279584000</td>\n",
       "      <td>1.090517</td>\n",
       "    </tr>\n",
       "    <tr>\n",
       "      <th>4</th>\n",
       "      <td>1279670400</td>\n",
       "      <td>1.065532</td>\n",
       "    </tr>\n",
       "    <tr>\n",
       "      <th>...</th>\n",
       "      <td>...</td>\n",
       "      <td>...</td>\n",
       "    </tr>\n",
       "    <tr>\n",
       "      <th>4217</th>\n",
       "      <td>1643673600</td>\n",
       "      <td>1.016613</td>\n",
       "    </tr>\n",
       "    <tr>\n",
       "      <th>4218</th>\n",
       "      <td>1643760000</td>\n",
       "      <td>0.997679</td>\n",
       "    </tr>\n",
       "    <tr>\n",
       "      <th>4219</th>\n",
       "      <td>1643846400</td>\n",
       "      <td>0.997416</td>\n",
       "    </tr>\n",
       "    <tr>\n",
       "      <th>4220</th>\n",
       "      <td>1643932800</td>\n",
       "      <td>1.003405</td>\n",
       "    </tr>\n",
       "    <tr>\n",
       "      <th>4221</th>\n",
       "      <td>1644019200</td>\n",
       "      <td>1.002440</td>\n",
       "    </tr>\n",
       "  </tbody>\n",
       "</table>\n",
       "<p>4222 rows × 2 columns</p>\n",
       "</div>"
      ],
      "text/plain": [
       "               t         v\n",
       "0     1279324800  1.000000\n",
       "1     1279411200  1.174760\n",
       "2     1279497600  1.318536\n",
       "3     1279584000  1.090517\n",
       "4     1279670400  1.065532\n",
       "...          ...       ...\n",
       "4217  1643673600  1.016613\n",
       "4218  1643760000  0.997679\n",
       "4219  1643846400  0.997416\n",
       "4220  1643932800  1.003405\n",
       "4221  1644019200  1.002440\n",
       "\n",
       "[4222 rows x 2 columns]"
      ]
     },
     "execution_count": 12,
     "metadata": {},
     "output_type": "execute_result"
    }
   ],
   "source": [
    "# make API request\n",
    "res = requests.get('https://api.glassnode.com/v1/metrics/indicators/sopr',\n",
    "    params={'a': 'BTC', 'api_key': g.key})\n",
    "\n",
    "# convert to pandas dataframe\n",
    "df = pd.read_json(res.text, convert_dates=['t'])\n",
    "df"
   ]
  },
  {
   "cell_type": "code",
   "execution_count": 20,
   "id": "c635d30a",
   "metadata": {},
   "outputs": [
    {
     "data": {
      "text/html": [
       "<div>\n",
       "<style scoped>\n",
       "    .dataframe tbody tr th:only-of-type {\n",
       "        vertical-align: middle;\n",
       "    }\n",
       "\n",
       "    .dataframe tbody tr th {\n",
       "        vertical-align: top;\n",
       "    }\n",
       "\n",
       "    .dataframe thead th {\n",
       "        text-align: right;\n",
       "    }\n",
       "</style>\n",
       "<table border=\"1\" class=\"dataframe\">\n",
       "  <thead>\n",
       "    <tr style=\"text-align: right;\">\n",
       "      <th></th>\n",
       "      <th>t</th>\n",
       "      <th>v</th>\n",
       "    </tr>\n",
       "  </thead>\n",
       "  <tbody>\n",
       "    <tr>\n",
       "      <th>0</th>\n",
       "      <td>1230940800</td>\n",
       "      <td>0.049510</td>\n",
       "    </tr>\n",
       "    <tr>\n",
       "      <th>1</th>\n",
       "      <td>1231027200</td>\n",
       "      <td>NaN</td>\n",
       "    </tr>\n",
       "    <tr>\n",
       "      <th>2</th>\n",
       "      <td>1231113600</td>\n",
       "      <td>NaN</td>\n",
       "    </tr>\n",
       "    <tr>\n",
       "      <th>3</th>\n",
       "      <td>1231200000</td>\n",
       "      <td>NaN</td>\n",
       "    </tr>\n",
       "    <tr>\n",
       "      <th>4</th>\n",
       "      <td>1231286400</td>\n",
       "      <td>NaN</td>\n",
       "    </tr>\n",
       "    <tr>\n",
       "      <th>...</th>\n",
       "      <td>...</td>\n",
       "      <td>...</td>\n",
       "    </tr>\n",
       "    <tr>\n",
       "      <th>4412</th>\n",
       "      <td>1612137600</td>\n",
       "      <td>11945.138601</td>\n",
       "    </tr>\n",
       "    <tr>\n",
       "      <th>4413</th>\n",
       "      <td>1612224000</td>\n",
       "      <td>11999.467109</td>\n",
       "    </tr>\n",
       "    <tr>\n",
       "      <th>4414</th>\n",
       "      <td>1612310400</td>\n",
       "      <td>12052.611823</td>\n",
       "    </tr>\n",
       "    <tr>\n",
       "      <th>4415</th>\n",
       "      <td>1612396800</td>\n",
       "      <td>12133.419869</td>\n",
       "    </tr>\n",
       "    <tr>\n",
       "      <th>4416</th>\n",
       "      <td>1612483200</td>\n",
       "      <td>12235.249011</td>\n",
       "    </tr>\n",
       "  </tbody>\n",
       "</table>\n",
       "<p>4417 rows × 2 columns</p>\n",
       "</div>"
      ],
      "text/plain": [
       "               t             v\n",
       "0     1230940800      0.049510\n",
       "1     1231027200           NaN\n",
       "2     1231113600           NaN\n",
       "3     1231200000           NaN\n",
       "4     1231286400           NaN\n",
       "...          ...           ...\n",
       "4412  1612137600  11945.138601\n",
       "4413  1612224000  11999.467109\n",
       "4414  1612310400  12052.611823\n",
       "4415  1612396800  12133.419869\n",
       "4416  1612483200  12235.249011\n",
       "\n",
       "[4417 rows x 2 columns]"
      ]
     },
     "execution_count": 20,
     "metadata": {},
     "output_type": "execute_result"
    }
   ],
   "source": [
    "df = pd.read_json(requests.get('https://api.glassnode.com/v1/metrics/market/price_realized_usd',\n",
    "    params={'a': 'btc', 'api_key': g.key}).text)\n",
    "df"
   ]
  },
  {
   "cell_type": "code",
   "execution_count": 11,
   "id": "c8e7c0b8",
   "metadata": {
    "scrolled": true
   },
   "outputs": [],
   "source": [
    "# pd.set_option(\"display.max_rows\", None, \"display.max_columns\", None)\n"
   ]
  },
  {
   "cell_type": "code",
   "execution_count": null,
   "id": "b5903a6e",
   "metadata": {},
   "outputs": [],
   "source": []
  },
  {
   "cell_type": "code",
   "execution_count": null,
   "id": "0fc69e85",
   "metadata": {},
   "outputs": [],
   "source": []
  },
  {
   "cell_type": "code",
   "execution_count": null,
   "id": "8fa447e0",
   "metadata": {},
   "outputs": [],
   "source": []
  },
  {
   "cell_type": "code",
   "execution_count": null,
   "id": "5fa79408",
   "metadata": {},
   "outputs": [],
   "source": []
  },
  {
   "cell_type": "code",
   "execution_count": null,
   "id": "110618d3",
   "metadata": {},
   "outputs": [],
   "source": []
  },
  {
   "cell_type": "code",
   "execution_count": null,
   "id": "d27d9c7d",
   "metadata": {},
   "outputs": [],
   "source": []
  },
  {
   "cell_type": "code",
   "execution_count": 11,
   "id": "cb22a03e",
   "metadata": {},
   "outputs": [
    {
     "data": {
      "text/html": [
       "<div>\n",
       "<style scoped>\n",
       "    .dataframe tbody tr th:only-of-type {\n",
       "        vertical-align: middle;\n",
       "    }\n",
       "\n",
       "    .dataframe tbody tr th {\n",
       "        vertical-align: top;\n",
       "    }\n",
       "\n",
       "    .dataframe thead th {\n",
       "        text-align: right;\n",
       "    }\n",
       "</style>\n",
       "<table border=\"1\" class=\"dataframe\">\n",
       "  <thead>\n",
       "    <tr style=\"text-align: right;\">\n",
       "      <th></th>\n",
       "      <th>date</th>\n",
       "      <th>price</th>\n",
       "    </tr>\n",
       "  </thead>\n",
       "  <tbody>\n",
       "  </tbody>\n",
       "</table>\n",
       "</div>"
      ],
      "text/plain": [
       "Empty DataFrame\n",
       "Columns: [date, price]\n",
       "Index: []"
      ]
     },
     "execution_count": 11,
     "metadata": {},
     "output_type": "execute_result"
    }
   ],
   "source": [
    "df = pd.DataFrame(columns=['date','price'])\n",
    "df"
   ]
  },
  {
   "cell_type": "code",
   "execution_count": 14,
   "id": "de7f0dd2",
   "metadata": {},
   "outputs": [
    {
     "data": {
      "text/html": [
       "<div>\n",
       "<style scoped>\n",
       "    .dataframe tbody tr th:only-of-type {\n",
       "        vertical-align: middle;\n",
       "    }\n",
       "\n",
       "    .dataframe tbody tr th {\n",
       "        vertical-align: top;\n",
       "    }\n",
       "\n",
       "    .dataframe thead th {\n",
       "        text-align: right;\n",
       "    }\n",
       "</style>\n",
       "<table border=\"1\" class=\"dataframe\">\n",
       "  <thead>\n",
       "    <tr style=\"text-align: right;\">\n",
       "      <th></th>\n",
       "      <th>date</th>\n",
       "      <th>price</th>\n",
       "    </tr>\n",
       "  </thead>\n",
       "  <tbody>\n",
       "    <tr>\n",
       "      <th>0</th>\n",
       "      <td>1</td>\n",
       "      <td>2</td>\n",
       "    </tr>\n",
       "  </tbody>\n",
       "</table>\n",
       "</div>"
      ],
      "text/plain": [
       "  date price\n",
       "0    1     2"
      ]
     },
     "execution_count": 14,
     "metadata": {},
     "output_type": "execute_result"
    }
   ],
   "source": [
    "df.loc[len(df)-1] = [1,2]\n",
    "df"
   ]
  },
  {
   "cell_type": "code",
   "execution_count": null,
   "id": "e4fd9ffe",
   "metadata": {},
   "outputs": [],
   "source": []
  },
  {
   "cell_type": "code",
   "execution_count": null,
   "id": "1bf0f5bb",
   "metadata": {},
   "outputs": [],
   "source": []
  },
  {
   "cell_type": "code",
   "execution_count": 3,
   "id": "5578fa5d",
   "metadata": {},
   "outputs": [],
   "source": [
    "date_time_from = datetime.datetime(year=2013, month=5,day=1)\n",
    "date_time_to = datetime.datetime(year=2022, month = 2, day = 7)"
   ]
  },
  {
   "cell_type": "code",
   "execution_count": 4,
   "id": "7b5b9bbf",
   "metadata": {},
   "outputs": [],
   "source": [
    "y = CoinGeckoAPI().get_closing_prices(date_time_from,date_time_to,'day')"
   ]
  },
  {
   "cell_type": "code",
   "execution_count": 5,
   "id": "a0399c00",
   "metadata": {},
   "outputs": [
    {
     "data": {
      "text/html": [
       "<div>\n",
       "<style scoped>\n",
       "    .dataframe tbody tr th:only-of-type {\n",
       "        vertical-align: middle;\n",
       "    }\n",
       "\n",
       "    .dataframe tbody tr th {\n",
       "        vertical-align: top;\n",
       "    }\n",
       "\n",
       "    .dataframe thead th {\n",
       "        text-align: right;\n",
       "    }\n",
       "</style>\n",
       "<table border=\"1\" class=\"dataframe\">\n",
       "  <thead>\n",
       "    <tr style=\"text-align: right;\">\n",
       "      <th></th>\n",
       "      <th>date</th>\n",
       "      <th>price</th>\n",
       "    </tr>\n",
       "  </thead>\n",
       "  <tbody>\n",
       "    <tr>\n",
       "      <th>0</th>\n",
       "      <td>2013-05-01 02:00:00</td>\n",
       "      <td>117.000000</td>\n",
       "    </tr>\n",
       "    <tr>\n",
       "      <th>1</th>\n",
       "      <td>2013-05-02 02:00:00</td>\n",
       "      <td>103.430000</td>\n",
       "    </tr>\n",
       "    <tr>\n",
       "      <th>2</th>\n",
       "      <td>2013-05-03 02:00:00</td>\n",
       "      <td>91.010000</td>\n",
       "    </tr>\n",
       "    <tr>\n",
       "      <th>3</th>\n",
       "      <td>2013-05-04 02:00:00</td>\n",
       "      <td>111.250000</td>\n",
       "    </tr>\n",
       "    <tr>\n",
       "      <th>4</th>\n",
       "      <td>2013-05-05 02:00:00</td>\n",
       "      <td>116.790000</td>\n",
       "    </tr>\n",
       "    <tr>\n",
       "      <th>...</th>\n",
       "      <td>...</td>\n",
       "      <td>...</td>\n",
       "    </tr>\n",
       "    <tr>\n",
       "      <th>3195</th>\n",
       "      <td>2022-02-02 01:00:00</td>\n",
       "      <td>38835.694943</td>\n",
       "    </tr>\n",
       "    <tr>\n",
       "      <th>3196</th>\n",
       "      <td>2022-02-03 01:00:00</td>\n",
       "      <td>37000.982499</td>\n",
       "    </tr>\n",
       "    <tr>\n",
       "      <th>3197</th>\n",
       "      <td>2022-02-04 01:00:00</td>\n",
       "      <td>37101.351594</td>\n",
       "    </tr>\n",
       "    <tr>\n",
       "      <th>3198</th>\n",
       "      <td>2022-02-05 01:00:00</td>\n",
       "      <td>41673.839554</td>\n",
       "    </tr>\n",
       "    <tr>\n",
       "      <th>3199</th>\n",
       "      <td>2022-02-06 01:00:00</td>\n",
       "      <td>41493.690051</td>\n",
       "    </tr>\n",
       "  </tbody>\n",
       "</table>\n",
       "<p>3200 rows × 2 columns</p>\n",
       "</div>"
      ],
      "text/plain": [
       "                     date         price\n",
       "0     2013-05-01 02:00:00    117.000000\n",
       "1     2013-05-02 02:00:00    103.430000\n",
       "2     2013-05-03 02:00:00     91.010000\n",
       "3     2013-05-04 02:00:00    111.250000\n",
       "4     2013-05-05 02:00:00    116.790000\n",
       "...                   ...           ...\n",
       "3195  2022-02-02 01:00:00  38835.694943\n",
       "3196  2022-02-03 01:00:00  37000.982499\n",
       "3197  2022-02-04 01:00:00  37101.351594\n",
       "3198  2022-02-05 01:00:00  41673.839554\n",
       "3199  2022-02-06 01:00:00  41493.690051\n",
       "\n",
       "[3200 rows x 2 columns]"
      ]
     },
     "execution_count": 5,
     "metadata": {},
     "output_type": "execute_result"
    }
   ],
   "source": [
    "y"
   ]
  },
  {
   "cell_type": "code",
   "execution_count": 6,
   "id": "e57fb0a3",
   "metadata": {},
   "outputs": [],
   "source": [
    "import matplotlib.pyplot as plt\n",
    "import numpy as np"
   ]
  },
  {
   "cell_type": "code",
   "execution_count": 7,
   "id": "a45733b2",
   "metadata": {},
   "outputs": [
    {
     "data": {
      "image/png": "[encoded data removed]",
      "text/plain": [
       "<Figure size 432x288 with 1 Axes>"
      ]
     },
     "metadata": {
      "needs_background": "light"
     },
     "output_type": "display_data"
    }
   ],
   "source": [
    "plt.plot(y['date'],y['price']);"
   ]
  },
  {
   "cell_type": "code",
   "execution_count": null,
   "id": "31399f5d",
   "metadata": {},
   "outputs": [],
   "source": []
  }
 ],
 "metadata": {
  "kernelspec": {
   "display_name": "Python 3 (ipykernel)",
   "language": "python",
   "name": "python3"
  },
  "language_info": {
   "codemirror_mode": {
    "name": "ipython",
    "version": 3
   },
   "file_extension": ".py",
   "mimetype": "text/x-python",
   "name": "python",
   "nbconvert_exporter": "python",
   "pygments_lexer": "ipython3",
   "version": "3.9.7"
  }
 },
 "nbformat": 4,
 "nbformat_minor": 5
}
