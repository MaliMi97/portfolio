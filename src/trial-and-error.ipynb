{
 "cells": [
  {
   "cell_type": "code",
   "execution_count": 1,
   "id": "a15de43b",
   "metadata": {},
   "outputs": [],
   "source": [
    "import datetime\n",
    "import pandas as pd\n",
    "import matplotlib.pyplot as plt\n",
    "import numpy as np"
   ]
  },
  {
   "cell_type": "code",
   "execution_count": 2,
   "id": "3e5095bf",
   "metadata": {},
   "outputs": [],
   "source": [
    "from api.GlassnodeAPI import GlassnodeAPI\n",
    "from api.CoinGeckoAPI import CoinGeckoAPI\n",
    "from functions.norms import *\n",
    "from visualization.line_graph import *"
   ]
  },
  {
   "cell_type": "code",
   "execution_count": 3,
   "id": "5578fa5d",
   "metadata": {},
   "outputs": [],
   "source": [
    "date_time_from = datetime.datetime(year=2013, month=5,day=1)\n",
    "date_time_to = datetime.datetime(year=2022, month = 2, day = 7)"
   ]
  },
  {
   "cell_type": "code",
   "execution_count": 4,
   "id": "7b5b9bbf",
   "metadata": {},
   "outputs": [],
   "source": [
    "y = CoinGeckoAPI().get_closing_prices(date_time_from,date_time_to,'day')"
   ]
  },
  {
   "cell_type": "code",
   "execution_count": 5,
   "id": "a0399c00",
   "metadata": {},
   "outputs": [
    {
     "data": {
      "text/html": [
       "<div>\n",
       "<style scoped>\n",
       "    .dataframe tbody tr th:only-of-type {\n",
       "        vertical-align: middle;\n",
       "    }\n",
       "\n",
       "    .dataframe tbody tr th {\n",
       "        vertical-align: top;\n",
       "    }\n",
       "\n",
       "    .dataframe thead th {\n",
       "        text-align: right;\n",
       "    }\n",
       "</style>\n",
       "<table border=\"1\" class=\"dataframe\">\n",
       "  <thead>\n",
       "    <tr style=\"text-align: right;\">\n",
       "      <th></th>\n",
       "      <th>date</th>\n",
       "      <th>price</th>\n",
       "    </tr>\n",
       "  </thead>\n",
       "  <tbody>\n",
       "    <tr>\n",
       "      <th>0</th>\n",
       "      <td>2013-05-01 02:00:00</td>\n",
       "      <td>117.000000</td>\n",
       "    </tr>\n",
       "    <tr>\n",
       "      <th>1</th>\n",
       "      <td>2013-05-02 02:00:00</td>\n",
       "      <td>103.430000</td>\n",
       "    </tr>\n",
       "    <tr>\n",
       "      <th>2</th>\n",
       "      <td>2013-05-03 02:00:00</td>\n",
       "      <td>91.010000</td>\n",
       "    </tr>\n",
       "    <tr>\n",
       "      <th>3</th>\n",
       "      <td>2013-05-04 02:00:00</td>\n",
       "      <td>111.250000</td>\n",
       "    </tr>\n",
       "    <tr>\n",
       "      <th>4</th>\n",
       "      <td>2013-05-05 02:00:00</td>\n",
       "      <td>116.790000</td>\n",
       "    </tr>\n",
       "    <tr>\n",
       "      <th>...</th>\n",
       "      <td>...</td>\n",
       "      <td>...</td>\n",
       "    </tr>\n",
       "    <tr>\n",
       "      <th>3195</th>\n",
       "      <td>2022-02-02 01:00:00</td>\n",
       "      <td>38835.694943</td>\n",
       "    </tr>\n",
       "    <tr>\n",
       "      <th>3196</th>\n",
       "      <td>2022-02-03 01:00:00</td>\n",
       "      <td>37000.982499</td>\n",
       "    </tr>\n",
       "    <tr>\n",
       "      <th>3197</th>\n",
       "      <td>2022-02-04 01:00:00</td>\n",
       "      <td>37101.351594</td>\n",
       "    </tr>\n",
       "    <tr>\n",
       "      <th>3198</th>\n",
       "      <td>2022-02-05 01:00:00</td>\n",
       "      <td>41673.839554</td>\n",
       "    </tr>\n",
       "    <tr>\n",
       "      <th>3199</th>\n",
       "      <td>2022-02-06 01:00:00</td>\n",
       "      <td>41493.690051</td>\n",
       "    </tr>\n",
       "  </tbody>\n",
       "</table>\n",
       "<p>3200 rows × 2 columns</p>\n",
       "</div>"
      ],
      "text/plain": [
       "                     date         price\n",
       "0     2013-05-01 02:00:00    117.000000\n",
       "1     2013-05-02 02:00:00    103.430000\n",
       "2     2013-05-03 02:00:00     91.010000\n",
       "3     2013-05-04 02:00:00    111.250000\n",
       "4     2013-05-05 02:00:00    116.790000\n",
       "...                   ...           ...\n",
       "3195  2022-02-02 01:00:00  38835.694943\n",
       "3196  2022-02-03 01:00:00  37000.982499\n",
       "3197  2022-02-04 01:00:00  37101.351594\n",
       "3198  2022-02-05 01:00:00  41673.839554\n",
       "3199  2022-02-06 01:00:00  41493.690051\n",
       "\n",
       "[3200 rows x 2 columns]"
      ]
     },
     "execution_count": 5,
     "metadata": {},
     "output_type": "execute_result"
    }
   ],
   "source": [
    "y"
   ]
  },
  {
   "cell_type": "code",
   "execution_count": 6,
   "id": "e57fb0a3",
   "metadata": {},
   "outputs": [],
   "source": [
    "import matplotlib.pyplot as plt\n",
    "import numpy as np"
   ]
  },
  {
   "cell_type": "code",
   "execution_count": 7,
   "id": "a45733b2",
   "metadata": {},
   "outputs": [
    {
     "data": {
      "image/png": "[encoded data removed]",
      "text/plain": [
       "<Figure size 432x288 with 1 Axes>"
      ]
     },
     "metadata": {
      "needs_background": "light"
     },
     "output_type": "display_data"
    }
   ],
   "source": [
    "plt.plot(y['date'],y['price']);"
   ]
  },
  {
   "cell_type": "code",
   "execution_count": null,
   "id": "31399f5d",
   "metadata": {},
   "outputs": [],
   "source": []
  }
 ],
 "metadata": {
  "kernelspec": {
   "display_name": "Python 3 (ipykernel)",
   "language": "python",
   "name": "python3"
  },
  "language_info": {
   "codemirror_mode": {
    "name": "ipython",
    "version": 3
   },
   "file_extension": ".py",
   "mimetype": "text/x-python",
   "name": "python",
   "nbconvert_exporter": "python",
   "pygments_lexer": "ipython3",
   "version": "3.9.7"
  }
 },
 "nbformat": 4,
 "nbformat_minor": 5
}
