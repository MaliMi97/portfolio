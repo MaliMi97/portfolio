{
 "cells": [
  {
   "cell_type": "code",
   "execution_count": 1,
   "id": "a15de43b",
   "metadata": {},
   "outputs": [],
   "source": [
    "import datetime\n",
    "import pandas as pd\n",
    "import matplotlib.pyplot as plt\n",
    "import numpy as np"
   ]
  },
  {
   "cell_type": "code",
   "execution_count": 2,
   "id": "3e5095bf",
   "metadata": {},
   "outputs": [],
   "source": [
    "from api.GlassnodeAPI import GlassnodeAPI\n",
    "from api.CoinGeckoAPI import CoinGeckoAPI\n",
    "from functions.functions import *\n",
    "from visualization.line_graph import *\n",
    "from functions.impermanent_loss import *"
   ]
  },
  {
   "cell_type": "code",
   "execution_count": 3,
   "id": "91a15290",
   "metadata": {},
   "outputs": [
    {
     "data": {
      "text/html": [
       "<div>\n",
       "<style scoped>\n",
       "    .dataframe tbody tr th:only-of-type {\n",
       "        vertical-align: middle;\n",
       "    }\n",
       "\n",
       "    .dataframe tbody tr th {\n",
       "        vertical-align: top;\n",
       "    }\n",
       "\n",
       "    .dataframe thead th {\n",
       "        text-align: right;\n",
       "    }\n",
       "</style>\n",
       "<table border=\"1\" class=\"dataframe\">\n",
       "  <thead>\n",
       "    <tr style=\"text-align: right;\">\n",
       "      <th></th>\n",
       "      <th>time</th>\n",
       "      <th>x_price</th>\n",
       "      <th>y_price</th>\n",
       "      <th>fiat</th>\n",
       "      <th>x</th>\n",
       "      <th>y</th>\n",
       "      <th>all in x</th>\n",
       "      <th>all in y</th>\n",
       "      <th>50/50</th>\n",
       "      <th>% to x</th>\n",
       "      <th>% to y</th>\n",
       "      <th>% to 50/50</th>\n",
       "    </tr>\n",
       "  </thead>\n",
       "  <tbody>\n",
       "    <tr>\n",
       "      <th>0</th>\n",
       "      <td>1</td>\n",
       "      <td>100</td>\n",
       "      <td>1</td>\n",
       "      <td>2000.000000</td>\n",
       "      <td>10.000000</td>\n",
       "      <td>1000.000000</td>\n",
       "      <td>2000.0</td>\n",
       "      <td>2000.0</td>\n",
       "      <td>2000.0</td>\n",
       "      <td>0.0</td>\n",
       "      <td>0.0</td>\n",
       "      <td>0.0</td>\n",
       "    </tr>\n",
       "    <tr>\n",
       "      <th>1</th>\n",
       "      <td>2</td>\n",
       "      <td>200</td>\n",
       "      <td>1</td>\n",
       "      <td>2828.427125</td>\n",
       "      <td>7.071068</td>\n",
       "      <td>1414.213562</td>\n",
       "      <td>4000.0</td>\n",
       "      <td>2000.0</td>\n",
       "      <td>3000.0</td>\n",
       "      <td>-29.289322</td>\n",
       "      <td>41.421356</td>\n",
       "      <td>-5.719096</td>\n",
       "    </tr>\n",
       "    <tr>\n",
       "      <th>2</th>\n",
       "      <td>3</td>\n",
       "      <td>300</td>\n",
       "      <td>1</td>\n",
       "      <td>3464.101615</td>\n",
       "      <td>5.773503</td>\n",
       "      <td>1732.050808</td>\n",
       "      <td>6000.0</td>\n",
       "      <td>2000.0</td>\n",
       "      <td>4000.0</td>\n",
       "      <td>-42.264973</td>\n",
       "      <td>73.205081</td>\n",
       "      <td>-13.39746</td>\n",
       "    </tr>\n",
       "    <tr>\n",
       "      <th>3</th>\n",
       "      <td>4</td>\n",
       "      <td>400</td>\n",
       "      <td>1</td>\n",
       "      <td>4000.000000</td>\n",
       "      <td>5.000000</td>\n",
       "      <td>2000.000000</td>\n",
       "      <td>8000.0</td>\n",
       "      <td>2000.0</td>\n",
       "      <td>5000.0</td>\n",
       "      <td>-50.0</td>\n",
       "      <td>100.0</td>\n",
       "      <td>-20.0</td>\n",
       "    </tr>\n",
       "    <tr>\n",
       "      <th>4</th>\n",
       "      <td>5</td>\n",
       "      <td>500</td>\n",
       "      <td>1</td>\n",
       "      <td>4472.135955</td>\n",
       "      <td>4.472136</td>\n",
       "      <td>2236.067977</td>\n",
       "      <td>10000.0</td>\n",
       "      <td>2000.0</td>\n",
       "      <td>6000.0</td>\n",
       "      <td>-55.27864</td>\n",
       "      <td>123.606798</td>\n",
       "      <td>-25.464401</td>\n",
       "    </tr>\n",
       "  </tbody>\n",
       "</table>\n",
       "</div>"
      ],
      "text/plain": [
       "  time x_price y_price         fiat          x            y all in x all in y  \\\n",
       "0    1     100       1  2000.000000  10.000000  1000.000000   2000.0   2000.0   \n",
       "1    2     200       1  2828.427125   7.071068  1414.213562   4000.0   2000.0   \n",
       "2    3     300       1  3464.101615   5.773503  1732.050808   6000.0   2000.0   \n",
       "3    4     400       1  4000.000000   5.000000  2000.000000   8000.0   2000.0   \n",
       "4    5     500       1  4472.135955   4.472136  2236.067977  10000.0   2000.0   \n",
       "\n",
       "    50/50     % to x      % to y % to 50/50  \n",
       "0  2000.0        0.0         0.0        0.0  \n",
       "1  3000.0 -29.289322   41.421356  -5.719096  \n",
       "2  4000.0 -42.264973   73.205081  -13.39746  \n",
       "3  5000.0      -50.0       100.0      -20.0  \n",
       "4  6000.0  -55.27864  123.606798 -25.464401  "
      ]
     },
     "execution_count": 3,
     "metadata": {},
     "output_type": "execute_result"
    }
   ],
   "source": [
    "df = pd.DataFrame(columns=['time','x_price','y_price'])\n",
    "df.loc[len(df)] = (1,100,1)\n",
    "df.loc[len(df)] = (2,200,1)\n",
    "df.loc[len(df)] = (3,300,1)\n",
    "df.loc[len(df)] = (4,400,1)\n",
    "df.loc[len(df)] = (5,500,1)\n",
    "impermanent_loss(df, 2000)"
   ]
  },
  {
   "cell_type": "code",
   "execution_count": 4,
   "id": "5578fa5d",
   "metadata": {},
   "outputs": [],
   "source": [
    "date_time_from = datetime.datetime(year=2013, month=5,day=1)\n",
    "date_time_to = datetime.datetime(year=2022, month = 2, day = 7)"
   ]
  },
  {
   "cell_type": "code",
   "execution_count": 5,
   "id": "7b5b9bbf",
   "metadata": {},
   "outputs": [],
   "source": [
    "y = CoinGeckoAPI().get_closing_price(date_time_from,date_time_to,'day')"
   ]
  },
  {
   "cell_type": "code",
   "execution_count": 6,
   "id": "a0399c00",
   "metadata": {},
   "outputs": [
    {
     "data": {
      "text/html": [
       "<div>\n",
       "<style scoped>\n",
       "    .dataframe tbody tr th:only-of-type {\n",
       "        vertical-align: middle;\n",
       "    }\n",
       "\n",
       "    .dataframe tbody tr th {\n",
       "        vertical-align: top;\n",
       "    }\n",
       "\n",
       "    .dataframe thead th {\n",
       "        text-align: right;\n",
       "    }\n",
       "</style>\n",
       "<table border=\"1\" class=\"dataframe\">\n",
       "  <thead>\n",
       "    <tr style=\"text-align: right;\">\n",
       "      <th></th>\n",
       "      <th>time</th>\n",
       "      <th>price</th>\n",
       "    </tr>\n",
       "  </thead>\n",
       "  <tbody>\n",
       "    <tr>\n",
       "      <th>0</th>\n",
       "      <td>2013-05-01 02:00:00</td>\n",
       "      <td>117.000000</td>\n",
       "    </tr>\n",
       "    <tr>\n",
       "      <th>1</th>\n",
       "      <td>2013-05-02 00:00:00</td>\n",
       "      <td>103.430000</td>\n",
       "    </tr>\n",
       "    <tr>\n",
       "      <th>2</th>\n",
       "      <td>2013-05-03 00:00:00</td>\n",
       "      <td>91.010000</td>\n",
       "    </tr>\n",
       "    <tr>\n",
       "      <th>3</th>\n",
       "      <td>2013-05-04 00:00:00</td>\n",
       "      <td>111.250000</td>\n",
       "    </tr>\n",
       "    <tr>\n",
       "      <th>4</th>\n",
       "      <td>2013-05-05 00:00:00</td>\n",
       "      <td>116.790000</td>\n",
       "    </tr>\n",
       "    <tr>\n",
       "      <th>...</th>\n",
       "      <td>...</td>\n",
       "      <td>...</td>\n",
       "    </tr>\n",
       "    <tr>\n",
       "      <th>3195</th>\n",
       "      <td>2022-02-02 00:00:00</td>\n",
       "      <td>38835.694943</td>\n",
       "    </tr>\n",
       "    <tr>\n",
       "      <th>3196</th>\n",
       "      <td>2022-02-03 00:00:00</td>\n",
       "      <td>37000.982499</td>\n",
       "    </tr>\n",
       "    <tr>\n",
       "      <th>3197</th>\n",
       "      <td>2022-02-04 00:00:00</td>\n",
       "      <td>37101.351594</td>\n",
       "    </tr>\n",
       "    <tr>\n",
       "      <th>3198</th>\n",
       "      <td>2022-02-05 00:00:00</td>\n",
       "      <td>41673.839554</td>\n",
       "    </tr>\n",
       "    <tr>\n",
       "      <th>3199</th>\n",
       "      <td>2022-02-06 00:00:00</td>\n",
       "      <td>41493.690051</td>\n",
       "    </tr>\n",
       "  </tbody>\n",
       "</table>\n",
       "<p>3200 rows × 2 columns</p>\n",
       "</div>"
      ],
      "text/plain": [
       "                     time         price\n",
       "0     2013-05-01 02:00:00    117.000000\n",
       "1     2013-05-02 00:00:00    103.430000\n",
       "2     2013-05-03 00:00:00     91.010000\n",
       "3     2013-05-04 00:00:00    111.250000\n",
       "4     2013-05-05 00:00:00    116.790000\n",
       "...                   ...           ...\n",
       "3195  2022-02-02 00:00:00  38835.694943\n",
       "3196  2022-02-03 00:00:00  37000.982499\n",
       "3197  2022-02-04 00:00:00  37101.351594\n",
       "3198  2022-02-05 00:00:00  41673.839554\n",
       "3199  2022-02-06 00:00:00  41493.690051\n",
       "\n",
       "[3200 rows x 2 columns]"
      ]
     },
     "execution_count": 6,
     "metadata": {},
     "output_type": "execute_result"
    }
   ],
   "source": [
    "y"
   ]
  },
  {
   "cell_type": "code",
   "execution_count": 7,
   "id": "e57fb0a3",
   "metadata": {},
   "outputs": [],
   "source": [
    "import matplotlib.pyplot as plt\n",
    "import numpy as np"
   ]
  },
  {
   "cell_type": "code",
   "execution_count": 8,
   "id": "a45733b2",
   "metadata": {},
   "outputs": [
    {
     "data": {
      "image/png": "[encoded data removed]",
      "text/plain": [
       "<Figure size 432x288 with 1 Axes>"
      ]
     },
     "metadata": {
      "needs_background": "light"
     },
     "output_type": "display_data"
    }
   ],
   "source": [
    "plt.plot(y['time'],y['price']);"
   ]
  },
  {
   "cell_type": "code",
   "execution_count": null,
   "id": "4524f718",
   "metadata": {},
   "outputs": [],
   "source": []
  }
 ],
 "metadata": {
  "kernelspec": {
   "display_name": "Python 3 (ipykernel)",
   "language": "python",
   "name": "python3"
  },
  "language_info": {
   "codemirror_mode": {
    "name": "ipython",
    "version": 3
   },
   "file_extension": ".py",
   "mimetype": "text/x-python",
   "name": "python",
   "nbconvert_exporter": "python",
   "pygments_lexer": "ipython3",
   "version": "3.9.7"
  }
 },
 "nbformat": 4,
 "nbformat_minor": 5
}
