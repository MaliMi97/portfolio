{
 "cells": [
  {
   "cell_type": "code",
   "execution_count": 1,
   "id": "5e5545fd",
   "metadata": {},
   "outputs": [],
   "source": [
    "import requests\n",
    "import datetime\n",
    "import time\n",
    "import sys"
   ]
  },
  {
   "cell_type": "code",
   "execution_count": 15,
   "id": "4800f96f",
   "metadata": {},
   "outputs": [],
   "source": [
    "class CoinGeckoAPI:\n",
    "    base_api_path = \"https://api.coingecko.com/api/v3/\"\n",
    "    def __init__(self, time_out=sys.maxsize, sleep=5):\n",
    "        self.time_out = time_out\n",
    "        self.sleep = sleep\n",
    "        \n",
    "    def change_param(time_out, sleep):\n",
    "        self.time_out = time_out\n",
    "        self.sleep = sleep \n",
    "    \n",
    "    def unit_timestamp(self, date_time):\n",
    "        return time.mktime(date_time.timetuple())\n",
    "    \n",
    "    def get_response(self, method, *args):\n",
    "        response = method(*args)\n",
    "        if response != {}:\n",
    "            return response\n",
    "        seconds = time.time()\n",
    "        while(response == {}):\n",
    "            if time.time() - seconds > self.time_out:\n",
    "                raise Exception(\"time_out time reached\")\n",
    "            time.sleep(self.sleep)\n",
    "            response = method(*args)\n",
    "        return response\n",
    "    \n",
    "    def request_price_market_cap_volume(self, date_time_from, date_time_to):\n",
    "        endpoint = f\"{self.base_api_path}coins/bitcoin/market_chart/range?vs_currency=usd&from={self.unit_timestamp(date_time_from)}&to={self.unit_timestamp(date_time_to)}\"\n",
    "        response = requests.get(endpoint)\n",
    "        if response.status_code not in range(200, 299):\n",
    "            return {}\n",
    "        return response.json()\n",
    "    \n",
    "    def request_daily_price_market_cap_volume(self, year, month, day):\n",
    "        date_time = datetime.datetime(year=year, month=month, day=day)\n",
    "        return self.request_price_market_cap_volume(date_time, date_time+datetime.timedelta(days=1))\n",
    "    \n",
    "    def get_daily_price_market_cap_volume(self, year, month, day):\n",
    "        return self.get_response(self.request_daily_price_market_cap_volume, year, month, day)\n",
    "    \n",
    "    def get_closing_prices(self, _date_time_from, _date_time_to, period):\n",
    "        '''\n",
    "        _date_time_to is inclusive\n",
    "        '''\n",
    "        if _date_time_from > _date_time_to:\n",
    "            raise Exception(\"_date_time_to is bigger than _date_time_from\")\n",
    "        if period == 'day':\n",
    "            date_time_from = datetime.datetime(year=_date_time_from.year, month=_date_time_from.month, day=_date_time_from.day)\n",
    "            date_time_to = datetime.datetime(year=_date_time_to.year, month=_date_time_to.month, day=_date_time_to.day)\n",
    "            return [(i,j) for i,j in self.get_response(self.request_price_market_cap_volume, date_time_from, date_time_to)['prices'] if datetime.datetime.fromtimestamp(i/1000).hour == 23]\n",
    "        elif period == 'week':\n",
    "            date_time_from = datetime.datetime(year=_date_time_from.year, month=_date_time_from.month, day=_date_time_from.day) + datetime.timedelta(days = 6 - datetime.date.weekday(_date_time_from))\n",
    "            date_time_to = datetime.datetime(year=_date_time_to.year, month=_date_time_to.month, day=_date_time_to.day) + datetime.timedelta(days = 6 - datetime.date.weekday(_date_time_to))\n",
    "            return [j for i,j in self.get_response(self.request_price_market_cap_volume, date_time_from, date_time_to)['prices'] if datetime.datetime.fromtimestamp(i/1000).hour == 23 and datetime.datetime.weekday(datetime.datetime.fromtimestamp(i/1000)) == 6]\n",
    "        elif period == 'month':\n",
    "            date_time_from = datetime.datetime(year=_date_time_from.year, month=_date_time_from.month)\n",
    "            date_time_to = datetime.datetime(year=_date_time_to.year, month=_date_time_to.month)\n",
    "            pass\n",
    "        elif period == 'year':\n",
    "            date_time_from = datetime.datetime(year=_date_time_from.year)\n",
    "            date_time_to = datetime.datetime(year=_date_time_to.year)\n",
    "            pass\n",
    "        else:\n",
    "            raise Exception(\"The only viable periods are day, week, month and year\")\n",
    "            \n",
    "\n",
    "            "
   ]
  },
  {
   "cell_type": "code",
   "execution_count": 44,
   "id": "5578fa5d",
   "metadata": {},
   "outputs": [],
   "source": [
    "date_time_from = datetime.datetime(year=2021, month=11, day=1)\n",
    "date_time_to = datetime.datetime(year=2021, month=11, day=2)\n",
    "aux = CoinGeckoAPI().request_price_market_cap_volume(date_time_from,date_time_to)"
   ]
  },
  {
   "cell_type": "code",
   "execution_count": 46,
   "id": "7b5b9bbf",
   "metadata": {},
   "outputs": [
    {
     "data": {
      "text/plain": [
       "datetime.timedelta(days=1)"
      ]
     },
     "execution_count": 46,
     "metadata": {},
     "output_type": "execute_result"
    }
   ],
   "source": [
    "date_time_to - date_time_from"
   ]
  },
  {
   "cell_type": "code",
   "execution_count": null,
   "id": "f2d80014",
   "metadata": {},
   "outputs": [],
   "source": []
  }
 ],
 "metadata": {
  "kernelspec": {
   "display_name": "Python 3 (ipykernel)",
   "language": "python",
   "name": "python3"
  },
  "language_info": {
   "codemirror_mode": {
    "name": "ipython",
    "version": 3
   },
   "file_extension": ".py",
   "mimetype": "text/x-python",
   "name": "python",
   "nbconvert_exporter": "python",
   "pygments_lexer": "ipython3",
   "version": "3.9.7"
  }
 },
 "nbformat": 4,
 "nbformat_minor": 5
}
